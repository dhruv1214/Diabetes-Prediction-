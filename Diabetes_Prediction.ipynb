{
 "cells": [
  {
   "cell_type": "code",
   "execution_count": 57,
   "metadata": {},
   "outputs": [],
   "source": [
    "from pyspark.sql import SparkSession\n",
    "import numpy as np\n",
    "import pandas as pd\n",
    "import os\n",
    "os.environ['JAVA_HOME'] = 'C:\\Program Files\\Java\\jdk1.8.0_101'"
   ]
  },
  {
   "cell_type": "code",
   "execution_count": 58,
   "metadata": {},
   "outputs": [],
   "source": [
    "spark = SparkSession.builder.appName(\"spark\").getOrCreate()"
   ]
  },
  {
   "cell_type": "code",
   "execution_count": 59,
   "metadata": {},
   "outputs": [],
   "source": [
    "df = spark.read.csv(\"diabetes.csv\",header=True,inferSchema=True)"
   ]
  },
  {
   "cell_type": "code",
   "execution_count": 60,
   "metadata": {},
   "outputs": [
    {
     "name": "stdout",
     "output_type": "stream",
     "text": [
      "+-----------+-------+-------------+-------------+-------+----+------------------------+---+-------+\n",
      "|Pregnancies|Glucose|BloodPressure|SkinThickness|Insulin| BMI|DiabetesPedigreeFunction|Age|Outcome|\n",
      "+-----------+-------+-------------+-------------+-------+----+------------------------+---+-------+\n",
      "|          2|    138|           62|           35|      0|33.6|                   0.127| 47|      1|\n",
      "|          0|     84|           82|           31|    125|38.2|                   0.233| 23|      0|\n",
      "|          0|    145|            0|            0|      0|44.2|                    0.63| 31|      1|\n",
      "|          0|    135|           68|           42|    250|42.3|                   0.365| 24|      1|\n",
      "|          1|    139|           62|           41|    480|40.7|                   0.536| 21|      0|\n",
      "|          0|    173|           78|           32|    265|46.5|                   1.159| 58|      0|\n",
      "|          4|     99|           72|           17|      0|25.6|                   0.294| 28|      0|\n",
      "|          8|    194|           80|            0|      0|26.1|                   0.551| 67|      0|\n",
      "|          2|     83|           65|           28|     66|36.8|                   0.629| 24|      0|\n",
      "|          2|     89|           90|           30|      0|33.5|                   0.292| 42|      0|\n",
      "|          4|     99|           68|           38|      0|32.8|                   0.145| 33|      0|\n",
      "|          4|    125|           70|           18|    122|28.9|                   1.144| 45|      1|\n",
      "|          3|     80|            0|            0|      0| 0.0|                   0.174| 22|      0|\n",
      "|          6|    166|           74|            0|      0|26.6|                   0.304| 66|      0|\n",
      "|          5|    110|           68|            0|      0|26.0|                   0.292| 30|      0|\n",
      "|          2|     81|           72|           15|     76|30.1|                   0.547| 25|      0|\n",
      "|          7|    195|           70|           33|    145|25.1|                   0.163| 55|      1|\n",
      "|          6|    154|           74|           32|    193|29.3|                   0.839| 39|      0|\n",
      "|          2|    117|           90|           19|     71|25.2|                   0.313| 21|      0|\n",
      "|          3|     84|           72|           32|      0|37.2|                   0.267| 28|      0|\n",
      "+-----------+-------+-------------+-------------+-------+----+------------------------+---+-------+\n",
      "only showing top 20 rows\n",
      "\n"
     ]
    }
   ],
   "source": [
    "df.show()"
   ]
  },
  {
   "cell_type": "code",
   "execution_count": 61,
   "metadata": {},
   "outputs": [
    {
     "name": "stdout",
     "output_type": "stream",
     "text": [
      "root\n",
      " |-- Pregnancies: integer (nullable = true)\n",
      " |-- Glucose: integer (nullable = true)\n",
      " |-- BloodPressure: integer (nullable = true)\n",
      " |-- SkinThickness: integer (nullable = true)\n",
      " |-- Insulin: integer (nullable = true)\n",
      " |-- BMI: double (nullable = true)\n",
      " |-- DiabetesPedigreeFunction: double (nullable = true)\n",
      " |-- Age: integer (nullable = true)\n",
      " |-- Outcome: integer (nullable = true)\n",
      "\n"
     ]
    }
   ],
   "source": [
    "df.printSchema()"
   ]
  },
  {
   "cell_type": "code",
   "execution_count": 62,
   "metadata": {},
   "outputs": [
    {
     "name": "stdout",
     "output_type": "stream",
     "text": [
      "(2000, 9)\n"
     ]
    }
   ],
   "source": [
    "print((df.count(),len(df.columns)))"
   ]
  },
  {
   "cell_type": "code",
   "execution_count": 63,
   "metadata": {},
   "outputs": [
    {
     "name": "stdout",
     "output_type": "stream",
     "text": [
      "+-------+-----+\n",
      "|Outcome|count|\n",
      "+-------+-----+\n",
      "|      1|  684|\n",
      "|      0| 1316|\n",
      "+-------+-----+\n",
      "\n"
     ]
    }
   ],
   "source": [
    "df.groupby('Outcome').count().show()"
   ]
  },
  {
   "cell_type": "code",
   "execution_count": 64,
   "metadata": {},
   "outputs": [
    {
     "name": "stdout",
     "output_type": "stream",
     "text": [
      "+-------+-----------------+------------------+------------------+-----------------+-----------------+------------------+------------------------+------------------+------------------+\n",
      "|summary|      Pregnancies|           Glucose|     BloodPressure|    SkinThickness|          Insulin|               BMI|DiabetesPedigreeFunction|               Age|           Outcome|\n",
      "+-------+-----------------+------------------+------------------+-----------------+-----------------+------------------+------------------------+------------------+------------------+\n",
      "|  count|             2000|              2000|              2000|             2000|             2000|              2000|                    2000|              2000|              2000|\n",
      "|   mean|           3.7035|          121.1825|           69.1455|           20.935|           80.254|32.192999999999984|     0.47092999999999974|           33.0905|             0.342|\n",
      "| stddev|3.306063032730656|32.068635649902916|19.188314815604098|16.10324290992682|111.1805335457595| 8.149900701279762|      0.3235525586811429|11.786423106049496|0.4744982342297426|\n",
      "|    min|                0|                 0|                 0|                0|                0|               0.0|                   0.078|                21|                 0|\n",
      "|    max|               17|               199|               122|              110|              744|              80.6|                    2.42|                81|                 1|\n",
      "+-------+-----------------+------------------+------------------+-----------------+-----------------+------------------+------------------------+------------------+------------------+\n",
      "\n"
     ]
    }
   ],
   "source": [
    "df.describe().show()"
   ]
  },
  {
   "cell_type": "code",
   "execution_count": 65,
   "metadata": {},
   "outputs": [
    {
     "name": "stdout",
     "output_type": "stream",
     "text": [
      "Pregnancies: 0\n",
      "Glucose: 0\n",
      "BloodPressure: 0\n",
      "SkinThickness: 0\n",
      "Insulin: 0\n",
      "BMI: 0\n",
      "DiabetesPedigreeFunction: 0\n",
      "Age: 0\n",
      "Outcome: 0\n"
     ]
    }
   ],
   "source": [
    "for col in df.columns:\n",
    "    print(col+\":\",df[df[col].isNull()].count())"
   ]
  },
  {
   "cell_type": "code",
   "execution_count": 66,
   "metadata": {},
   "outputs": [
    {
     "name": "stdout",
     "output_type": "stream",
     "text": [
      "Glucose: 13\n",
      "BloodPressure: 90\n",
      "SkinThickness: 573\n",
      "Insulin: 956\n",
      "BMI: 28\n"
     ]
    }
   ],
   "source": [
    "def count_zeros():\n",
    "    columns_list = ['Glucose','BloodPressure','SkinThickness','Insulin','BMI']\n",
    "    for i in columns_list:\n",
    "        print(i+\":\",df[df[i]==0].count())\n",
    "count_zeros()        "
   ]
  },
  {
   "cell_type": "code",
   "execution_count": 67,
   "metadata": {},
   "outputs": [
    {
     "name": "stdout",
     "output_type": "stream",
     "text": [
      "Mean  value for  Glucose is 121\n",
      "Mean  value for  BloodPressure is 69\n",
      "Mean  value for  SkinThickness is 20\n",
      "Mean  value for  Insulin is 80\n",
      "Mean  value for  BMI is 32\n"
     ]
    }
   ],
   "source": [
    "from pyspark.sql.functions import *\n",
    "\n",
    "for i in df.columns[1:6]:\n",
    "    data = df.agg({i:'mean'}).first()[0]\n",
    "    print(\"Mean  value for  {} is {}\".format(i,int(data)))\n",
    "    \n",
    "    df = df.withColumn(i,when(df[i]==0,int(data)).otherwise(df[i]))"
   ]
  },
  {
   "cell_type": "code",
   "execution_count": 68,
   "metadata": {},
   "outputs": [
    {
     "name": "stdout",
     "output_type": "stream",
     "text": [
      "+-----------+-------+-------------+-------------+-------+----+------------------------+---+-------+\n",
      "|Pregnancies|Glucose|BloodPressure|SkinThickness|Insulin| BMI|DiabetesPedigreeFunction|Age|Outcome|\n",
      "+-----------+-------+-------------+-------------+-------+----+------------------------+---+-------+\n",
      "|          2|    138|           62|           35|     80|33.6|                   0.127| 47|      1|\n",
      "|          0|     84|           82|           31|    125|38.2|                   0.233| 23|      0|\n",
      "|          0|    145|           69|           20|     80|44.2|                    0.63| 31|      1|\n",
      "|          0|    135|           68|           42|    250|42.3|                   0.365| 24|      1|\n",
      "|          1|    139|           62|           41|    480|40.7|                   0.536| 21|      0|\n",
      "|          0|    173|           78|           32|    265|46.5|                   1.159| 58|      0|\n",
      "|          4|     99|           72|           17|     80|25.6|                   0.294| 28|      0|\n",
      "|          8|    194|           80|           20|     80|26.1|                   0.551| 67|      0|\n",
      "|          2|     83|           65|           28|     66|36.8|                   0.629| 24|      0|\n",
      "|          2|     89|           90|           30|     80|33.5|                   0.292| 42|      0|\n",
      "|          4|     99|           68|           38|     80|32.8|                   0.145| 33|      0|\n",
      "|          4|    125|           70|           18|    122|28.9|                   1.144| 45|      1|\n",
      "|          3|     80|           69|           20|     80|32.0|                   0.174| 22|      0|\n",
      "|          6|    166|           74|           20|     80|26.6|                   0.304| 66|      0|\n",
      "|          5|    110|           68|           20|     80|26.0|                   0.292| 30|      0|\n",
      "|          2|     81|           72|           15|     76|30.1|                   0.547| 25|      0|\n",
      "|          7|    195|           70|           33|    145|25.1|                   0.163| 55|      1|\n",
      "|          6|    154|           74|           32|    193|29.3|                   0.839| 39|      0|\n",
      "|          2|    117|           90|           19|     71|25.2|                   0.313| 21|      0|\n",
      "|          3|     84|           72|           32|     80|37.2|                   0.267| 28|      0|\n",
      "+-----------+-------+-------------+-------------+-------+----+------------------------+---+-------+\n",
      "only showing top 20 rows\n",
      "\n"
     ]
    }
   ],
   "source": [
    "df.show()"
   ]
  },
  {
   "cell_type": "code",
   "execution_count": 69,
   "metadata": {},
   "outputs": [
    {
     "name": "stdout",
     "output_type": "stream",
     "text": [
      "Coorelation to Outcomes for  Pregnancies is 0.22443699263363961 \n",
      "Coorelation to Outcomes for  Glucose is 0.48796646527321064 \n",
      "Coorelation to Outcomes for  BloodPressure is 0.17171333286446713 \n",
      "Coorelation to Outcomes for  SkinThickness is 0.1659010662889893 \n",
      "Coorelation to Outcomes for  Insulin is 0.1711763270226193 \n",
      "Coorelation to Outcomes for  BMI is 0.2827927569760082 \n",
      "Coorelation to Outcomes for  DiabetesPedigreeFunction is 0.1554590791569403 \n",
      "Coorelation to Outcomes for  Age is 0.23650924717620253 \n",
      "Coorelation to Outcomes for  Outcome is 1.0 \n"
     ]
    }
   ],
   "source": [
    "from pyspark.sql.functions import *\n",
    "for col in df.columns:\n",
    "    print(\"Coorelation to Outcomes for  {} is {} \".format(col,df.stat.corr('Outcome',col)))"
   ]
  },
  {
   "cell_type": "code",
   "execution_count": 70,
   "metadata": {
    "scrolled": true
   },
   "outputs": [],
   "source": [
    "from pyspark.ml.feature import VectorAssembler\n",
    "assembler = VectorAssembler(inputCols=['Pregnancies','Glucose','BloodPressure','SkinThickness','Insulin','BMI','DiabetesPedigreeFunction','Age'],outputCol='features')\n",
    "output_data = assembler.transform(df)"
   ]
  },
  {
   "cell_type": "code",
   "execution_count": 71,
   "metadata": {},
   "outputs": [
    {
     "name": "stdout",
     "output_type": "stream",
     "text": [
      "root\n",
      " |-- Pregnancies: integer (nullable = true)\n",
      " |-- Glucose: integer (nullable = true)\n",
      " |-- BloodPressure: integer (nullable = true)\n",
      " |-- SkinThickness: integer (nullable = true)\n",
      " |-- Insulin: integer (nullable = true)\n",
      " |-- BMI: double (nullable = true)\n",
      " |-- DiabetesPedigreeFunction: double (nullable = true)\n",
      " |-- Age: integer (nullable = true)\n",
      " |-- Outcome: integer (nullable = true)\n",
      " |-- features: vector (nullable = true)\n",
      "\n"
     ]
    }
   ],
   "source": [
    "output_data.printSchema()"
   ]
  },
  {
   "cell_type": "code",
   "execution_count": 72,
   "metadata": {},
   "outputs": [
    {
     "name": "stdout",
     "output_type": "stream",
     "text": [
      "+-----------+-------+-------------+-------------+-------+----+------------------------+---+-------+--------------------+\n",
      "|Pregnancies|Glucose|BloodPressure|SkinThickness|Insulin| BMI|DiabetesPedigreeFunction|Age|Outcome|            features|\n",
      "+-----------+-------+-------------+-------------+-------+----+------------------------+---+-------+--------------------+\n",
      "|          2|    138|           62|           35|     80|33.6|                   0.127| 47|      1|[2.0,138.0,62.0,3...|\n",
      "|          0|     84|           82|           31|    125|38.2|                   0.233| 23|      0|[0.0,84.0,82.0,31...|\n",
      "|          0|    145|           69|           20|     80|44.2|                    0.63| 31|      1|[0.0,145.0,69.0,2...|\n",
      "|          0|    135|           68|           42|    250|42.3|                   0.365| 24|      1|[0.0,135.0,68.0,4...|\n",
      "|          1|    139|           62|           41|    480|40.7|                   0.536| 21|      0|[1.0,139.0,62.0,4...|\n",
      "|          0|    173|           78|           32|    265|46.5|                   1.159| 58|      0|[0.0,173.0,78.0,3...|\n",
      "|          4|     99|           72|           17|     80|25.6|                   0.294| 28|      0|[4.0,99.0,72.0,17...|\n",
      "|          8|    194|           80|           20|     80|26.1|                   0.551| 67|      0|[8.0,194.0,80.0,2...|\n",
      "|          2|     83|           65|           28|     66|36.8|                   0.629| 24|      0|[2.0,83.0,65.0,28...|\n",
      "|          2|     89|           90|           30|     80|33.5|                   0.292| 42|      0|[2.0,89.0,90.0,30...|\n",
      "|          4|     99|           68|           38|     80|32.8|                   0.145| 33|      0|[4.0,99.0,68.0,38...|\n",
      "|          4|    125|           70|           18|    122|28.9|                   1.144| 45|      1|[4.0,125.0,70.0,1...|\n",
      "|          3|     80|           69|           20|     80|32.0|                   0.174| 22|      0|[3.0,80.0,69.0,20...|\n",
      "|          6|    166|           74|           20|     80|26.6|                   0.304| 66|      0|[6.0,166.0,74.0,2...|\n",
      "|          5|    110|           68|           20|     80|26.0|                   0.292| 30|      0|[5.0,110.0,68.0,2...|\n",
      "|          2|     81|           72|           15|     76|30.1|                   0.547| 25|      0|[2.0,81.0,72.0,15...|\n",
      "|          7|    195|           70|           33|    145|25.1|                   0.163| 55|      1|[7.0,195.0,70.0,3...|\n",
      "|          6|    154|           74|           32|    193|29.3|                   0.839| 39|      0|[6.0,154.0,74.0,3...|\n",
      "|          2|    117|           90|           19|     71|25.2|                   0.313| 21|      0|[2.0,117.0,90.0,1...|\n",
      "|          3|     84|           72|           32|     80|37.2|                   0.267| 28|      0|[3.0,84.0,72.0,32...|\n",
      "+-----------+-------+-------------+-------------+-------+----+------------------------+---+-------+--------------------+\n",
      "only showing top 20 rows\n",
      "\n"
     ]
    }
   ],
   "source": [
    "output_data.show()"
   ]
  },
  {
   "cell_type": "code",
   "execution_count": 73,
   "metadata": {},
   "outputs": [],
   "source": [
    "from pyspark.ml.classification import LogisticRegression\n",
    "final_data = output_data.select('features','Outcome')"
   ]
  },
  {
   "cell_type": "code",
   "execution_count": 74,
   "metadata": {},
   "outputs": [
    {
     "name": "stdout",
     "output_type": "stream",
     "text": [
      "root\n",
      " |-- features: vector (nullable = true)\n",
      " |-- Outcome: integer (nullable = true)\n",
      "\n"
     ]
    }
   ],
   "source": [
    "final_data.printSchema()"
   ]
  },
  {
   "cell_type": "code",
   "execution_count": 75,
   "metadata": {},
   "outputs": [],
   "source": [
    "train , test = final_data.randomSplit([0.7,0.3])\n",
    "models = LogisticRegression(labelCol='Outcome')\n",
    "model = models.fit(train)"
   ]
  },
  {
   "cell_type": "code",
   "execution_count": 76,
   "metadata": {},
   "outputs": [],
   "source": [
    "summary = model.summary"
   ]
  },
  {
   "cell_type": "code",
   "execution_count": 77,
   "metadata": {},
   "outputs": [
    {
     "name": "stdout",
     "output_type": "stream",
     "text": [
      "+-------+------------------+-------------------+\n",
      "|summary|           Outcome|         prediction|\n",
      "+-------+------------------+-------------------+\n",
      "|  count|              1405|               1405|\n",
      "|   mean|0.3323843416370107| 0.2498220640569395|\n",
      "| stddev|0.4712356555477142|0.43306406452829255|\n",
      "|    min|               0.0|                0.0|\n",
      "|    max|               1.0|                1.0|\n",
      "+-------+------------------+-------------------+\n",
      "\n"
     ]
    }
   ],
   "source": [
    "summary.predictions.describe().show()"
   ]
  },
  {
   "cell_type": "code",
   "execution_count": 78,
   "metadata": {},
   "outputs": [],
   "source": [
    "from pyspark.ml.evaluation import BinaryClassificationEvaluator\n",
    "predictions = model.evaluate(test)"
   ]
  },
  {
   "cell_type": "code",
   "execution_count": 79,
   "metadata": {},
   "outputs": [
    {
     "name": "stdout",
     "output_type": "stream",
     "text": [
      "+--------------------+-------+--------------------+--------------------+----------+\n",
      "|            features|Outcome|       rawPrediction|         probability|prediction|\n",
      "+--------------------+-------+--------------------+--------------------+----------+\n",
      "|[0.0,67.0,76.0,20...|      0|[2.02566123377385...|[0.88346512509350...|       0.0|\n",
      "|[0.0,73.0,69.0,20...|      0|[4.34158744282428...|[0.98715138575666...|       0.0|\n",
      "|[0.0,74.0,52.0,10...|      0|[3.54138744991223...|[0.97184270371704...|       0.0|\n",
      "|[0.0,74.0,52.0,10...|      0|[3.54138744991223...|[0.97184270371704...|       0.0|\n",
      "|[0.0,84.0,64.0,22...|      0|[2.33252853400971...|[0.91153544641202...|       0.0|\n",
      "|[0.0,84.0,64.0,22...|      0|[2.33252853400971...|[0.91153544641202...|       0.0|\n",
      "|[0.0,84.0,82.0,31...|      0|[2.56771450807437...|[0.92875461421466...|       0.0|\n",
      "|[0.0,91.0,68.0,32...|      0|[2.06980453045052...|[0.88793351221408...|       0.0|\n",
      "|[0.0,91.0,80.0,20...|      0|[2.33971207666541...|[0.91211300714857...|       0.0|\n",
      "|[0.0,93.0,60.0,20...|      0|[2.26488409927513...|[0.90592669720555...|       0.0|\n",
      "|[0.0,94.0,69.0,20...|      0|[2.59003548075227...|[0.93021752031657...|       0.0|\n",
      "|[0.0,94.0,70.0,27...|      0|[1.52014055316112...|[0.82055917682754...|       0.0|\n",
      "|[0.0,95.0,64.0,39...|      0|[1.43501904998016...|[0.80768213750596...|       0.0|\n",
      "|[0.0,95.0,80.0,45...|      0|[2.31440142046753...|[0.91006275591156...|       0.0|\n",
      "|[0.0,95.0,85.0,25...|      1|[2.07042752157933...|[0.88799548957932...|       0.0|\n",
      "|[0.0,95.0,85.0,25...|      1|[2.07042752157933...|[0.88799548957932...|       0.0|\n",
      "|[0.0,98.0,82.0,15...|      0|[3.11675512715731...|[0.95757861107314...|       0.0|\n",
      "|[0.0,99.0,69.0,20...|      0|[3.15455716947233...|[0.95908791191387...|       0.0|\n",
      "|[0.0,100.0,70.0,2...|      0|[2.25590171197444...|[0.90515839034563...|       0.0|\n",
      "|[0.0,100.0,88.0,6...|      0|[0.65092566362206...|[0.65721902852761...|       0.0|\n",
      "+--------------------+-------+--------------------+--------------------+----------+\n",
      "only showing top 20 rows\n",
      "\n"
     ]
    }
   ],
   "source": [
    "predictions.predictions.show(20)"
   ]
  },
  {
   "cell_type": "code",
   "execution_count": 80,
   "metadata": {},
   "outputs": [
    {
     "data": {
      "text/plain": [
       "0.8368322239289984"
      ]
     },
     "execution_count": 80,
     "metadata": {},
     "output_type": "execute_result"
    }
   ],
   "source": [
    "evaluator = BinaryClassificationEvaluator(rawPredictionCol='rawPrediction', labelCol='Outcome')\n",
    "evaluator.evaluate(model.transform(test))"
   ]
  },
  {
   "cell_type": "code",
   "execution_count": 81,
   "metadata": {},
   "outputs": [
    {
     "name": "stdout",
     "output_type": "stream",
     "text": [
      "== Parsed Logical Plan ==\n",
      "Sample 0.0, 0.7, false, 971595430145716579\n",
      "+- Sort [features#4029 ASC NULLS FIRST, Outcome#2852 ASC NULLS FIRST], false\n",
      "   +- Project [features#4029, Outcome#2852]\n",
      "      +- Project [Pregnancies#2844, Glucose#3725, BloodPressure#3752, SkinThickness#3779, Insulin#3806, BMI#3833, DiabetesPedigreeFunction#2850, Age#2851, Outcome#2852, UDF(struct(Pregnancies_double_VectorAssembler_95b8b81ac381, cast(Pregnancies#2844 as double), Glucose_double_VectorAssembler_95b8b81ac381, cast(Glucose#3725 as double), BloodPressure_double_VectorAssembler_95b8b81ac381, cast(BloodPressure#3752 as double), SkinThickness_double_VectorAssembler_95b8b81ac381, cast(SkinThickness#3779 as double), Insulin_double_VectorAssembler_95b8b81ac381, cast(Insulin#3806 as double), BMI, BMI#3833, DiabetesPedigreeFunction, DiabetesPedigreeFunction#2850, Age_double_VectorAssembler_95b8b81ac381, cast(Age#2851 as double))) AS features#4029]\n",
      "         +- Project [Pregnancies#2844, Glucose#3725, BloodPressure#3752, SkinThickness#3779, Insulin#3806, CASE WHEN (BMI#2849 = cast(0 as double)) THEN cast(32 as double) ELSE BMI#2849 END AS BMI#3833, DiabetesPedigreeFunction#2850, Age#2851, Outcome#2852]\n",
      "            +- Project [Pregnancies#2844, Glucose#3725, BloodPressure#3752, SkinThickness#3779, CASE WHEN (Insulin#2848 = 0) THEN 80 ELSE Insulin#2848 END AS Insulin#3806, BMI#2849, DiabetesPedigreeFunction#2850, Age#2851, Outcome#2852]\n",
      "               +- Project [Pregnancies#2844, Glucose#3725, BloodPressure#3752, CASE WHEN (SkinThickness#2847 = 0) THEN 20 ELSE SkinThickness#2847 END AS SkinThickness#3779, Insulin#2848, BMI#2849, DiabetesPedigreeFunction#2850, Age#2851, Outcome#2852]\n",
      "                  +- Project [Pregnancies#2844, Glucose#3725, CASE WHEN (BloodPressure#2846 = 0) THEN 69 ELSE BloodPressure#2846 END AS BloodPressure#3752, SkinThickness#2847, Insulin#2848, BMI#2849, DiabetesPedigreeFunction#2850, Age#2851, Outcome#2852]\n",
      "                     +- Project [Pregnancies#2844, CASE WHEN (Glucose#2845 = 0) THEN 121 ELSE Glucose#2845 END AS Glucose#3725, BloodPressure#2846, SkinThickness#2847, Insulin#2848, BMI#2849, DiabetesPedigreeFunction#2850, Age#2851, Outcome#2852]\n",
      "                        +- Relation[Pregnancies#2844,Glucose#2845,BloodPressure#2846,SkinThickness#2847,Insulin#2848,BMI#2849,DiabetesPedigreeFunction#2850,Age#2851,Outcome#2852] csv\n",
      "\n",
      "== Analyzed Logical Plan ==\n",
      "features: vector, Outcome: int\n",
      "Sample 0.0, 0.7, false, 971595430145716579\n",
      "+- Sort [features#4029 ASC NULLS FIRST, Outcome#2852 ASC NULLS FIRST], false\n",
      "   +- Project [features#4029, Outcome#2852]\n",
      "      +- Project [Pregnancies#2844, Glucose#3725, BloodPressure#3752, SkinThickness#3779, Insulin#3806, BMI#3833, DiabetesPedigreeFunction#2850, Age#2851, Outcome#2852, UDF(struct(Pregnancies_double_VectorAssembler_95b8b81ac381, cast(Pregnancies#2844 as double), Glucose_double_VectorAssembler_95b8b81ac381, cast(Glucose#3725 as double), BloodPressure_double_VectorAssembler_95b8b81ac381, cast(BloodPressure#3752 as double), SkinThickness_double_VectorAssembler_95b8b81ac381, cast(SkinThickness#3779 as double), Insulin_double_VectorAssembler_95b8b81ac381, cast(Insulin#3806 as double), BMI, BMI#3833, DiabetesPedigreeFunction, DiabetesPedigreeFunction#2850, Age_double_VectorAssembler_95b8b81ac381, cast(Age#2851 as double))) AS features#4029]\n",
      "         +- Project [Pregnancies#2844, Glucose#3725, BloodPressure#3752, SkinThickness#3779, Insulin#3806, CASE WHEN (BMI#2849 = cast(0 as double)) THEN cast(32 as double) ELSE BMI#2849 END AS BMI#3833, DiabetesPedigreeFunction#2850, Age#2851, Outcome#2852]\n",
      "            +- Project [Pregnancies#2844, Glucose#3725, BloodPressure#3752, SkinThickness#3779, CASE WHEN (Insulin#2848 = 0) THEN 80 ELSE Insulin#2848 END AS Insulin#3806, BMI#2849, DiabetesPedigreeFunction#2850, Age#2851, Outcome#2852]\n",
      "               +- Project [Pregnancies#2844, Glucose#3725, BloodPressure#3752, CASE WHEN (SkinThickness#2847 = 0) THEN 20 ELSE SkinThickness#2847 END AS SkinThickness#3779, Insulin#2848, BMI#2849, DiabetesPedigreeFunction#2850, Age#2851, Outcome#2852]\n",
      "                  +- Project [Pregnancies#2844, Glucose#3725, CASE WHEN (BloodPressure#2846 = 0) THEN 69 ELSE BloodPressure#2846 END AS BloodPressure#3752, SkinThickness#2847, Insulin#2848, BMI#2849, DiabetesPedigreeFunction#2850, Age#2851, Outcome#2852]\n",
      "                     +- Project [Pregnancies#2844, CASE WHEN (Glucose#2845 = 0) THEN 121 ELSE Glucose#2845 END AS Glucose#3725, BloodPressure#2846, SkinThickness#2847, Insulin#2848, BMI#2849, DiabetesPedigreeFunction#2850, Age#2851, Outcome#2852]\n",
      "                        +- Relation[Pregnancies#2844,Glucose#2845,BloodPressure#2846,SkinThickness#2847,Insulin#2848,BMI#2849,DiabetesPedigreeFunction#2850,Age#2851,Outcome#2852] csv\n",
      "\n",
      "== Optimized Logical Plan ==\n",
      "Sample 0.0, 0.7, false, 971595430145716579\n",
      "+- Sort [features#4029 ASC NULLS FIRST, Outcome#2852 ASC NULLS FIRST], false\n",
      "   +- Project [features#4029, Outcome#2852]\n",
      "      +- Project [Outcome#2852, UDF(struct(Pregnancies_double_VectorAssembler_95b8b81ac381, cast(Pregnancies#2844 as double), Glucose_double_VectorAssembler_95b8b81ac381, cast(CASE WHEN (Glucose#2845 = 0) THEN 121 ELSE Glucose#2845 END as double), BloodPressure_double_VectorAssembler_95b8b81ac381, cast(CASE WHEN (BloodPressure#2846 = 0) THEN 69 ELSE BloodPressure#2846 END as double), SkinThickness_double_VectorAssembler_95b8b81ac381, cast(CASE WHEN (SkinThickness#2847 = 0) THEN 20 ELSE SkinThickness#2847 END as double), Insulin_double_VectorAssembler_95b8b81ac381, cast(CASE WHEN (Insulin#2848 = 0) THEN 80 ELSE Insulin#2848 END as double), BMI, CASE WHEN (BMI#2849 = 0.0) THEN 32.0 ELSE BMI#2849 END, DiabetesPedigreeFunction, DiabetesPedigreeFunction#2850, Age_double_VectorAssembler_95b8b81ac381, cast(Age#2851 as double))) AS features#4029]\n",
      "         +- Relation[Pregnancies#2844,Glucose#2845,BloodPressure#2846,SkinThickness#2847,Insulin#2848,BMI#2849,DiabetesPedigreeFunction#2850,Age#2851,Outcome#2852] csv\n",
      "\n",
      "== Physical Plan ==\n",
      "*(1) Sample 0.0, 0.7, false, 971595430145716579\n",
      "+- *(1) Sort [features#4029 ASC NULLS FIRST, Outcome#2852 ASC NULLS FIRST], false, 0\n",
      "   +- *(1) Project [features#4029, Outcome#2852]\n",
      "      +- *(1) Project [Outcome#2852, UDF(struct(Pregnancies_double_VectorAssembler_95b8b81ac381, cast(Pregnancies#2844 as double), Glucose_double_VectorAssembler_95b8b81ac381, cast(CASE WHEN (Glucose#2845 = 0) THEN 121 ELSE Glucose#2845 END as double), BloodPressure_double_VectorAssembler_95b8b81ac381, cast(CASE WHEN (BloodPressure#2846 = 0) THEN 69 ELSE BloodPressure#2846 END as double), SkinThickness_double_VectorAssembler_95b8b81ac381, cast(CASE WHEN (SkinThickness#2847 = 0) THEN 20 ELSE SkinThickness#2847 END as double), Insulin_double_VectorAssembler_95b8b81ac381, cast(CASE WHEN (Insulin#2848 = 0) THEN 80 ELSE Insulin#2848 END as double), BMI, CASE WHEN (BMI#2849 = 0.0) THEN 32.0 ELSE BMI#2849 END, DiabetesPedigreeFunction, DiabetesPedigreeFunction#2850, Age_double_VectorAssembler_95b8b81ac381, cast(Age#2851 as double))) AS features#4029]\n",
      "         +- FileScan csv [Pregnancies#2844,Glucose#2845,BloodPressure#2846,SkinThickness#2847,Insulin#2848,BMI#2849,DiabetesPedigreeFunction#2850,Age#2851,Outcome#2852] Batched: false, DataFilters: [], Format: CSV, Location: InMemoryFileIndex[file:/C:/Users/DHRUV/Diabetes/diabetes.csv], PartitionFilters: [], PushedFilters: [], ReadSchema: struct<Pregnancies:int,Glucose:int,BloodPressure:int,SkinThickness:int,Insulin:int,BMI:double,Dia...\n",
      "\n"
     ]
    }
   ],
   "source": [
    "train.count()\n",
    "\n",
    "train.explain(extended=True)"
   ]
  },
  {
   "cell_type": "code",
   "execution_count": null,
   "metadata": {},
   "outputs": [],
   "source": [
    "model.save('Model')"
   ]
  },
  {
   "cell_type": "code",
   "execution_count": null,
   "metadata": {},
   "outputs": [],
   "source": [
    "from pyspark.ml.classification import LogisticRegressionModel\n",
    "model = LogisticRegressionModel.load('model')"
   ]
  },
  {
   "cell_type": "code",
   "execution_count": null,
   "metadata": {},
   "outputs": [],
   "source": []
  },
  {
   "cell_type": "code",
   "execution_count": null,
   "metadata": {},
   "outputs": [],
   "source": []
  }
 ],
 "metadata": {
  "kernelspec": {
   "display_name": "Python 3",
   "language": "python",
   "name": "python3"
  },
  "language_info": {
   "codemirror_mode": {
    "name": "ipython",
    "version": 3
   },
   "file_extension": ".py",
   "mimetype": "text/x-python",
   "name": "python",
   "nbconvert_exporter": "python",
   "pygments_lexer": "ipython3",
   "version": "3.7.1"
  }
 },
 "nbformat": 4,
 "nbformat_minor": 2
}
